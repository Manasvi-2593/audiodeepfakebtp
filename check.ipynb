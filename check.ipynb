{
 "cells": [
  {
   "cell_type": "code",
   "execution_count": null,
   "metadata": {},
   "outputs": [
    {
     "data": {
      "text/plain": [
       "'\\nSteps to run this repo : \\n1. First follow all the setup steps given in README file and download the pretained model from given link (https://drive.google.com/drive/folders/13vw_AX1jHdYndRu1edlgpdNJpCX8OnrH)\\n   Errors that you may face : \\n   1. out of memory while downloading pytorch : run the same command with --no cache dir \\n   2. symbolic link not found : run vs code as administrator \\n\\n\\nAfter this , run the below code to assess of torch.cuda.is_available() comes to be true \\nif its false : \\n   run this command : pip uninstall pytorch \\n                and : python -m pip install torch torchvision torchaudio --index-url https://download.pytorch.org/whl/cu117\\n\\n                \\nand check the below code again , find ways to solve the problem until torch.cuda.is_available() returns True \\n\\n2. run the following command in terminal \\npython main.py --track=custom_dataset --is_eval --eval --model_path=D:\\\\Desktop\\\\SSL_Anti-spoofing\\\\SLSforASVspoof-2021-DF\\\\MMpaper_model.pth --protocols_path=D:\\\\Desktop\\\\SSL_Anti-spoofing\\\\SLSforASVspoof-2021-DF\\\\database\\\\ASVspoof_DF_cm_protocols\\\\hindidataset.eval.txt --database_path=D:\\\\Desktop\\\\SSL_Anti-spoofing\\\\SLSforASVspoof-2021-DF\\\\hindi_tts_generated_dataset --eval_output=D:\\\\Desktop\\\\SSL_Anti-spoofing\\\\SLSforASVspoof-2021-DF\\\\output_check_file.txt\\n\\nhere model path will be the path to pretrained model that you will download \\nprotocols path will the path to file database\\\\ASVspoof_DF_cm_protocols\\\\hindidataset.eval.txt  (add full path in command)\\ndatabase path will be path to folder : hindi_tts_generated_dataset\\nfor eval output , create a empty txt file and give its path \\n\\nprotocols path is a file that contains names of audio that we want to evaluate \\n\\nNote : always check that you are woking in conda environment by running command : conda activate SSL (or name of your virtual env)\\nThe ke\\n'"
      ]
     },
     "execution_count": 1,
     "metadata": {},
     "output_type": "execute_result"
    }
   ],
   "source": [
    "'''\n",
    "Steps to run this repo : \n",
    "1. First follow all the setup steps given in README file and download both the pretained model from given link (https://drive.google.com/drive/folders/13vw_AX1jHdYndRu1edlgpdNJpCX8OnrH) and the XLS_R 300 M from this link(https://github.com/facebookresearch/fairseq/tree/main/examples/wav2vec/xlsr)\n",
    "   Errors that you may face : \n",
    "   1. out of memory while downloading pytorch : run the same command with --no cache dir \n",
    "   2. symbolic link not found : run vs code as administrator \n",
    "\n",
    "\n",
    "After this , run the below code to assess if torch.cuda.is_available() comes to be true \n",
    "if its false : \n",
    "   run this command : pip uninstall pytorch \n",
    "                and : python -m pip install torch torchvision torchaudio --index-url https://download.pytorch.org/whl/cu117\n",
    "\n",
    "                \n",
    "and check the below code again , find ways to solve the problem until torch.cuda.is_available() returns True \n",
    "\n",
    "2. run the following command in terminal \n",
    "python main.py --track=custom_dataset --is_eval --eval --model_path=D:\\Desktop\\SSL_Anti-spoofing\\SLSforASVspoof-2021-DF\\MMpaper_model.pth --protocols_path=D:\\Desktop\\SSL_Anti-spoofing\\SLSforASVspoof-2021-DF\\database\\ASVspoof_DF_cm_protocols\\hindidataset.eval.txt --database_path=D:\\Desktop\\SSL_Anti-spoofing\\SLSforASVspoof-2021-DF\\hindi_tts_generated_dataset --eval_output=D:\\Desktop\\SSL_Anti-spoofing\\SLSforASVspoof-2021-DF\\output_check_file.txt\n",
    "\n",
    "here model path will be the path to pretrained model that you will download \n",
    "protocols path will the path to file database\\ASVspoof_DF_cm_protocols\\hindidataset.eval.txt  (add full path in command)\n",
    "database path will be path to folder : hindi_tts_generated_dataset\n",
    "for eval output , create a empty txt file and give its path \n",
    "\n",
    "protocols path is a file that contains names of audio that we want to evaluate \n",
    "\n",
    "Note : always check that you are woking in conda environment by running command : conda activate SSL (or name of your virtual env)\n",
    "The kernel of jupyter notebook should also work in same environment\n",
    "'''"
   ]
  },
  {
   "cell_type": "code",
   "execution_count": 1,
   "metadata": {},
   "outputs": [
    {
     "ename": "ModuleNotFoundError",
     "evalue": "No module named 'torch'",
     "output_type": "error",
     "traceback": [
      "\u001b[0;31m---------------------------------------------------------------------------\u001b[0m",
      "\u001b[0;31mModuleNotFoundError\u001b[0m                       Traceback (most recent call last)",
      "Cell \u001b[0;32mIn [1], line 1\u001b[0m\n\u001b[0;32m----> 1\u001b[0m \u001b[38;5;28;01mimport\u001b[39;00m \u001b[38;5;21;01mtorch\u001b[39;00m\n\u001b[1;32m      2\u001b[0m \u001b[38;5;28mprint\u001b[39m(torch\u001b[38;5;241m.\u001b[39mcuda\u001b[38;5;241m.\u001b[39mis_available())\n",
      "\u001b[0;31mModuleNotFoundError\u001b[0m: No module named 'torch'"
     ]
    }
   ],
   "source": [
    "import torch\n",
    "print(torch.cuda.is_available())"
   ]
  },
  {
   "cell_type": "code",
   "execution_count": 3,
   "metadata": {},
   "outputs": [
    {
     "name": "stdout",
     "output_type": "stream",
     "text": [
      "File list saved to D:\\Desktop\\SSL_Anti-spoofing\\SLSforASVspoof-2021-DF\\database\\ASVspoof_DF_cm_protocols\\hindidataset.eval.txt\n"
     ]
    }
   ],
   "source": [
    "import os\n",
    "\n",
    "def write_filenames_to_txt(folder_path, txt_filename):\n",
    "    txt_file = os.path.join(folder_path, txt_filename)\n",
    "    with open(txt_file, \"w\") as f:\n",
    "        for filename in os.listdir(folder_path):\n",
    "            if os.path.isfile(os.path.join(folder_path, filename)):\n",
    "                f.write(f\"{filename}\\n\")\n",
    "\n",
    "folder_path = r\"D:\\Desktop\\SSL_Anti-spoofing\\SLSforASVspoof-2021-DF\\hindi_tts_generated_dataset\"\n",
    "txt_filename = r\"D:\\Desktop\\SSL_Anti-spoofing\\SLSforASVspoof-2021-DF\\database\\ASVspoof_DF_cm_protocols\\hindidataset.eval.txt\"\n",
    "write_filenames_to_txt(folder_path, txt_filename)\n",
    "\n",
    "print(f\"File list saved to {txt_filename}\")\n"
   ]
  },
  {
   "cell_type": "code",
   "execution_count": 1,
   "metadata": {},
   "outputs": [
    {
     "name": "stdout",
     "output_type": "stream",
     "text": [
      "cm_key.txt created with all entries labeled as 'spoof'.\n"
     ]
    }
   ],
   "source": [
    "input_file = \"D:\\Desktop\\SSL_Anti-spoofing\\SLSforASVspoof-2021-DF\\database\\ASVspoof_DF_cm_protocols\\hindidataset.eval.txt\"  # Replace with your actual file\n",
    "output_file = \"D:\\Desktop\\SSL_Anti-spoofing\\SLSforASVspoof-2021-DF\\keys\\cmkeyhindi.txt\"\n",
    "\n",
    "with open(input_file, \"r\") as infile, open(output_file, \"w\") as outfile:\n",
    "    for line in infile:\n",
    "        entry = line.strip()  # Remove any extra spaces or newlines\n",
    "        outfile.write(f\"{entry} spoof\\n\")\n",
    "\n",
    "print(f\"cm_key.txt created with all entries labeled as 'spoof'.\")\n"
   ]
  },
  {
   "cell_type": "code",
   "execution_count": 9,
   "metadata": {},
   "outputs": [
    {
     "name": "stdout",
     "output_type": "stream",
     "text": [
      "Files created successfully!\n"
     ]
    }
   ],
   "source": [
    "import os\n",
    "\n",
    "main_folder = r\"D:\\Desktop\\SSL_Anti-spoofing\\SLSforASVspoof-2021-DF\\train\"\n",
    "spoof_folder = os.path.join(main_folder, \"spoof\")\n",
    "bonafide_folder = os.path.join(main_folder, \"bonafide\")\n",
    "\n",
    "all_paths_file = \"all_paths.txt\"\n",
    "labeled_paths_file = \"labeled_paths.txt\"\n",
    "\n",
    "with open(all_paths_file, \"w\") as all_paths, open(labeled_paths_file, \"w\") as labeled_paths:\n",
    "    for folder, label in [(spoof_folder, \"spoof\"), (bonafide_folder, \"bonafide\")]:\n",
    "        for file_name in os.listdir(folder):\n",
    "            file_path = os.path.join(label, file_name)  # Relative path\n",
    "            absolute_path = os.path.join(folder, file_name)  # Full path for checking\n",
    "            if os.path.isfile(absolute_path):\n",
    "                all_paths.write(f\"{file_path}\\n\")\n",
    "                labeled_paths.write(f\"{file_path} {label}\\n\")\n",
    "\n",
    "print(\"Files created successfully!\")\n"
   ]
  },
  {
   "cell_type": "code",
   "execution_count": 5,
   "metadata": {},
   "outputs": [
    {
     "name": "stdout",
     "output_type": "stream",
     "text": [
      "Kept 20000 files and deleted the rest.\n"
     ]
    }
   ],
   "source": [
    "import os\n",
    "import random\n",
    "\n",
    "folder_path = r\"D:\\Desktop\\SSL_Anti-spoofing\\SLSforASVspoof-2021-DF\\train\\bonafide\"\n",
    "\n",
    "# Get all files in the folder\n",
    "files = [os.path.join(folder_path, f) for f in os.listdir(folder_path) if os.path.isfile(os.path.join(folder_path, f))]\n",
    "\n",
    "# Shuffle and keep only 20000 files\n",
    "files_to_keep = set(random.sample(files, min(20000, len(files))))\n",
    "\n",
    "# Delete the rest\n",
    "for file in files:\n",
    "    if file not in files_to_keep:\n",
    "        os.remove(file)\n",
    "\n",
    "print(\"Kept 20000 files and deleted the rest.\")\n"
   ]
  }
 ],
 "metadata": {
  "kernelspec": {
   "display_name": "SLS",
   "language": "python",
   "name": "python3"
  },
  "language_info": {
   "codemirror_mode": {
    "name": "ipython",
    "version": 3
   },
   "file_extension": ".py",
   "mimetype": "text/x-python",
   "name": "python",
   "nbconvert_exporter": "python",
   "pygments_lexer": "ipython3",
   "version": "3.7.12"
  }
 },
 "nbformat": 4,
 "nbformat_minor": 4
}
