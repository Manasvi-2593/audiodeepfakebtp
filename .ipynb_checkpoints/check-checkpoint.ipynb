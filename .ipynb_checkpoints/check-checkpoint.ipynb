{
 "cells": [
  {
   "cell_type": "code",
   "execution_count": null,
   "metadata": {},
   "outputs": [
    {
     "data": {
      "text/plain": [
       "'\\nSteps to run this repo : \\n1. First follow all the setup steps given in README file and download the pretained model from given link (https://drive.google.com/drive/folders/13vw_AX1jHdYndRu1edlgpdNJpCX8OnrH)\\n   Errors that you may face : \\n   1. out of memory while downloading pytorch : run the same command with --no cache dir \\n   2. symbolic link not found : run vs code as administrator \\n\\n\\nAfter this , run the below code to assess of torch.cuda.is_available() comes to be true \\nif its false : \\n   run this command : pip uninstall pytorch \\n                and : python -m pip install torch torchvision torchaudio --index-url https://download.pytorch.org/whl/cu117\\n\\n                \\nand check the below code again , find ways to solve the problem until torch.cuda.is_available() returns True \\n\\n2. run the following command in terminal \\npython main.py --track=custom_dataset --is_eval --eval --model_path=D:\\\\Desktop\\\\SSL_Anti-spoofing\\\\SLSforASVspoof-2021-DF\\\\MMpaper_model.pth --protocols_path=D:\\\\Desktop\\\\SSL_Anti-spoofing\\\\SLSforASVspoof-2021-DF\\\\database\\\\ASVspoof_DF_cm_protocols\\\\hindidataset.eval.txt --database_path=D:\\\\Desktop\\\\SSL_Anti-spoofing\\\\SLSforASVspoof-2021-DF\\\\hindi_tts_generated_dataset --eval_output=D:\\\\Desktop\\\\SSL_Anti-spoofing\\\\SLSforASVspoof-2021-DF\\\\output_check_file.txt\\n\\nhere model path will be the path to pretrained model that you will download \\nprotocols path will the path to file database\\\\ASVspoof_DF_cm_protocols\\\\hindidataset.eval.txt  (add full path in command)\\ndatabase path will be path to folder : hindi_tts_generated_dataset\\nfor eval output , create a empty txt file and give its path \\n\\nprotocols path is a file that contains names of audio that we want to evaluate \\n\\nNote : always check that you are woking in conda environment by running command : conda activate SSL (or name of your virtual env)\\nThe ke\\n'"
      ]
     },
     "execution_count": 1,
     "metadata": {},
     "output_type": "execute_result"
    }
   ],
   "source": [
    "'''\n",
    "Steps to run this repo : \n",
    "1. First follow all the setup steps given in README file and download both the pretained model from given link (https://drive.google.com/drive/folders/13vw_AX1jHdYndRu1edlgpdNJpCX8OnrH) and the XLS_R 300 M from this link(https://github.com/facebookresearch/fairseq/tree/main/examples/wav2vec/xlsr)\n",
    "   Errors that you may face : \n",
    "   1. out of memory while downloading pytorch : run the same command with --no cache dir \n",
    "   2. symbolic link not found : run vs code as administrator \n",
    "\n",
    "\n",
    "After this , run the below code to assess if torch.cuda.is_available() comes to be true \n",
    "if its false : \n",
    "   run this command : pip uninstall pytorch \n",
    "                and : python -m pip install torch torchvision torchaudio --index-url https://download.pytorch.org/whl/cu117\n",
    "\n",
    "                \n",
    "and check the below code again , find ways to solve the problem until torch.cuda.is_available() returns True \n",
    "\n",
    "2. run the following command in terminal \n",
    "python main.py --track=custom_dataset --is_eval --eval --model_path=D:\\Desktop\\SSL_Anti-spoofing\\SLSforASVspoof-2021-DF\\MMpaper_model.pth --protocols_path=D:\\Desktop\\SSL_Anti-spoofing\\SLSforASVspoof-2021-DF\\database\\ASVspoof_DF_cm_protocols\\hindidataset.eval.txt --database_path=D:\\Desktop\\SSL_Anti-spoofing\\SLSforASVspoof-2021-DF\\hindi_tts_generated_dataset --eval_output=D:\\Desktop\\SSL_Anti-spoofing\\SLSforASVspoof-2021-DF\\output_check_file.txt\n",
    "\n",
    "here model path will be the path to pretrained model that you will download \n",
    "protocols path will the path to file database\\ASVspoof_DF_cm_protocols\\hindidataset.eval.txt  (add full path in command)\n",
    "database path will be path to folder : hindi_tts_generated_dataset\n",
    "for eval output , create a empty txt file and give its path \n",
    "\n",
    "protocols path is a file that contains names of audio that we want to evaluate \n",
    "\n",
    "Note : always check that you are woking in conda environment by running command : conda activate SSL (or name of your virtual env)\n",
    "The kernel of jupyter notebook should also work in same environment\n",
    "'''"
   ]
  },
  {
   "cell_type": "code",
   "execution_count": 2,
   "metadata": {},
   "outputs": [
    {
     "name": "stderr",
     "output_type": "stream",
     "text": [
      "c:\\Users\\hp\\anaconda3\\envs\\SLS\\lib\\site-packages\\tqdm\\auto.py:21: TqdmWarning: IProgress not found. Please update jupyter and ipywidgets. See https://ipywidgets.readthedocs.io/en/stable/user_install.html\n",
      "  from .autonotebook import tqdm as notebook_tqdm\n"
     ]
    },
    {
     "name": "stdout",
     "output_type": "stream",
     "text": [
      "True\n"
     ]
    }
   ],
   "source": [
    "import torch\n",
    "print(torch.cuda.is_available())"
   ]
  },
  {
   "cell_type": "code",
   "execution_count": 3,
   "metadata": {},
   "outputs": [
    {
     "name": "stdout",
     "output_type": "stream",
     "text": [
      "File list saved to D:\\Desktop\\SSL_Anti-spoofing\\SLSforASVspoof-2021-DF\\database\\ASVspoof_DF_cm_protocols\\hindidataset.eval.txt\n"
     ]
    }
   ],
   "source": [
    "import os\n",
    "\n",
    "def write_filenames_to_txt(folder_path, txt_filename):\n",
    "    txt_file = os.path.join(folder_path, txt_filename)\n",
    "    with open(txt_file, \"w\") as f:\n",
    "        for filename in os.listdir(folder_path):\n",
    "            if os.path.isfile(os.path.join(folder_path, filename)):\n",
    "                f.write(f\"{filename}\\n\")\n",
    "\n",
    "folder_path = r\"D:\\Desktop\\SSL_Anti-spoofing\\SLSforASVspoof-2021-DF\\hindi_tts_generated_dataset\"\n",
    "txt_filename = r\"D:\\Desktop\\SSL_Anti-spoofing\\SLSforASVspoof-2021-DF\\database\\ASVspoof_DF_cm_protocols\\hindidataset.eval.txt\"\n",
    "write_filenames_to_txt(folder_path, txt_filename)\n",
    "\n",
    "print(f\"File list saved to {txt_filename}\")\n"
   ]
  }
 ],
 "metadata": {
  "kernelspec": {
   "display_name": "SLS",
   "language": "python",
   "name": "python3"
  },
  "language_info": {
   "codemirror_mode": {
    "name": "ipython",
    "version": 3
   },
   "file_extension": ".py",
   "mimetype": "text/x-python",
   "name": "python",
   "nbconvert_exporter": "python",
   "pygments_lexer": "ipython3",
   "version": "3.7.12"
  }
 },
 "nbformat": 4,
 "nbformat_minor": 2
}
